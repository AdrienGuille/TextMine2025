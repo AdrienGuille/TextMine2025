{
 "cells": [
  {
   "cell_type": "markdown",
   "id": "e29c99b4-b8c3-4591-8ed0-94c2ea459a3c",
   "metadata": {},
   "source": [
    "# Génération du jeu de données\n",
    "\n",
    "## Données d'entraînement"
   ]
  },
  {
   "cell_type": "code",
   "execution_count": 1,
   "id": "72328ebe-90f7-4995-bdb6-147e7afc3375",
   "metadata": {},
   "outputs": [
    {
     "name": "stdout",
     "output_type": "stream",
     "text": [
      "(800, 3)\n"
     ]
    },
    {
     "data": {
      "text/html": [
       "<div>\n",
       "<style scoped>\n",
       "    .dataframe tbody tr th:only-of-type {\n",
       "        vertical-align: middle;\n",
       "    }\n",
       "\n",
       "    .dataframe tbody tr th {\n",
       "        vertical-align: top;\n",
       "    }\n",
       "\n",
       "    .dataframe thead th {\n",
       "        text-align: right;\n",
       "    }\n",
       "</style>\n",
       "<table border=\"1\" class=\"dataframe\">\n",
       "  <thead>\n",
       "    <tr style=\"text-align: right;\">\n",
       "      <th></th>\n",
       "      <th>text</th>\n",
       "      <th>entities</th>\n",
       "      <th>relations</th>\n",
       "    </tr>\n",
       "    <tr>\n",
       "      <th>id</th>\n",
       "      <th></th>\n",
       "      <th></th>\n",
       "      <th></th>\n",
       "    </tr>\n",
       "  </thead>\n",
       "  <tbody>\n",
       "    <tr>\n",
       "      <th>181</th>\n",
       "      <td>Anam Destresse, président de l'ONG \"Ma passion...</td>\n",
       "      <td>[{'id': 0, 'mentions': [{'value': 'accident', ...</td>\n",
       "      <td>[[0, STARTED_IN, 9], [7, IS_LOCATED_IN, 9], [5...</td>\n",
       "    </tr>\n",
       "    <tr>\n",
       "      <th>31669</th>\n",
       "      <td>À Paris, le 8 avril 2022, l'usine de déodorant...</td>\n",
       "      <td>[{'id': 0, 'mentions': [{'value': 'explosé', '...</td>\n",
       "      <td>[[9, IS_LOCATED_IN, 8], [11, OPERATES_IN, 8], ...</td>\n",
       "    </tr>\n",
       "    <tr>\n",
       "      <th>51470</th>\n",
       "      <td>En Espagne, dans une région agricole, une cont...</td>\n",
       "      <td>[{'id': 0, 'mentions': [{'value': 'contaminati...</td>\n",
       "      <td>[[7, IS_PART_OF, 8], [9, OPERATES_IN, 1], [0, ...</td>\n",
       "    </tr>\n",
       "    <tr>\n",
       "      <th>51332</th>\n",
       "      <td>Un important incendie a fait des ravages dans ...</td>\n",
       "      <td>[{'id': 0, 'mentions': [{'value': 'incendie', ...</td>\n",
       "      <td>[[12, IS_IN_CONTACT_WITH, 5], [0, IS_LOCATED_I...</td>\n",
       "    </tr>\n",
       "    <tr>\n",
       "      <th>1131</th>\n",
       "      <td>« Je coule » : onze heures après avoir envoyé ...</td>\n",
       "      <td>[{'id': 0, 'mentions': [{'value': 'renversé', ...</td>\n",
       "      <td>[[9, IS_LOCATED_IN, 2], [0, START_DATE, 17], [...</td>\n",
       "    </tr>\n",
       "  </tbody>\n",
       "</table>\n",
       "</div>"
      ],
      "text/plain": [
       "                                                    text  \\\n",
       "id                                                         \n",
       "181    Anam Destresse, président de l'ONG \"Ma passion...   \n",
       "31669  À Paris, le 8 avril 2022, l'usine de déodorant...   \n",
       "51470  En Espagne, dans une région agricole, une cont...   \n",
       "51332  Un important incendie a fait des ravages dans ...   \n",
       "1131   « Je coule » : onze heures après avoir envoyé ...   \n",
       "\n",
       "                                                entities  \\\n",
       "id                                                         \n",
       "181    [{'id': 0, 'mentions': [{'value': 'accident', ...   \n",
       "31669  [{'id': 0, 'mentions': [{'value': 'explosé', '...   \n",
       "51470  [{'id': 0, 'mentions': [{'value': 'contaminati...   \n",
       "51332  [{'id': 0, 'mentions': [{'value': 'incendie', ...   \n",
       "1131   [{'id': 0, 'mentions': [{'value': 'renversé', ...   \n",
       "\n",
       "                                               relations  \n",
       "id                                                        \n",
       "181    [[0, STARTED_IN, 9], [7, IS_LOCATED_IN, 9], [5...  \n",
       "31669  [[9, IS_LOCATED_IN, 8], [11, OPERATES_IN, 8], ...  \n",
       "51470  [[7, IS_PART_OF, 8], [9, OPERATES_IN, 1], [0, ...  \n",
       "51332  [[12, IS_IN_CONTACT_WITH, 5], [0, IS_LOCATED_I...  \n",
       "1131   [[9, IS_LOCATED_IN, 2], [0, START_DATE, 17], [...  "
      ]
     },
     "execution_count": 1,
     "metadata": {},
     "output_type": "execute_result"
    }
   ],
   "source": [
    "import pandas as pd\n",
    "import json\n",
    "\n",
    "train_df = pd.read_csv(\"train.csv\")\n",
    "train_df = train_df.set_index(\"id\")\n",
    "train_df.entities = train_df.entities.apply(json.loads)\n",
    "train_df.relations = train_df.relations.apply(json.loads)\n",
    "print(train_df.shape)\n",
    "train_df.head()"
   ]
  },
  {
   "cell_type": "markdown",
   "id": "02c23077-37a7-4e2d-9ad2-38166f9fda3a",
   "metadata": {},
   "source": [
    "## Extraction des relations annotées"
   ]
  },
  {
   "cell_type": "code",
   "execution_count": 2,
   "id": "53399a12-bfd3-44c2-a23e-9fc09af83162",
   "metadata": {},
   "outputs": [
    {
     "name": "stdout",
     "output_type": "stream",
     "text": [
      "31469 27657\n"
     ]
    },
    {
     "data": {
      "text/html": [
       "<div>\n",
       "<style scoped>\n",
       "    .dataframe tbody tr th:only-of-type {\n",
       "        vertical-align: middle;\n",
       "    }\n",
       "\n",
       "    .dataframe tbody tr th {\n",
       "        vertical-align: top;\n",
       "    }\n",
       "\n",
       "    .dataframe thead th {\n",
       "        text-align: right;\n",
       "    }\n",
       "</style>\n",
       "<table border=\"1\" class=\"dataframe\">\n",
       "  <thead>\n",
       "    <tr style=\"text-align: right;\">\n",
       "      <th></th>\n",
       "      <th>head</th>\n",
       "      <th>type</th>\n",
       "      <th>tail</th>\n",
       "    </tr>\n",
       "  </thead>\n",
       "  <tbody>\n",
       "    <tr>\n",
       "      <th>0</th>\n",
       "      <td>CIVILIAN</td>\n",
       "      <td>DIED_IN</td>\n",
       "      <td>SUICIDE</td>\n",
       "    </tr>\n",
       "    <tr>\n",
       "      <th>1</th>\n",
       "      <td>CRIMINAL_ARREST</td>\n",
       "      <td>START_DATE</td>\n",
       "      <td>TIME_FUZZY</td>\n",
       "    </tr>\n",
       "    <tr>\n",
       "      <th>2</th>\n",
       "      <td>NON_GOVERNMENTAL_ORGANISATION</td>\n",
       "      <td>HAS_CONTROL_OVER</td>\n",
       "      <td>PLACE</td>\n",
       "    </tr>\n",
       "    <tr>\n",
       "      <th>3</th>\n",
       "      <td>NON_GOVERNMENTAL_ORGANISATION</td>\n",
       "      <td>IS_AT_ODDS_WITH</td>\n",
       "      <td>GROUP_OF_INDIVIDUALS</td>\n",
       "    </tr>\n",
       "    <tr>\n",
       "      <th>4</th>\n",
       "      <td>NON_MILITARY_GOVERNMENT_ORGANISATION</td>\n",
       "      <td>IS_IN_CONTACT_WITH</td>\n",
       "      <td>TERRORIST_OR_CRIMINAL</td>\n",
       "    </tr>\n",
       "  </tbody>\n",
       "</table>\n",
       "</div>"
      ],
      "text/plain": [
       "                                   head                type  \\\n",
       "0                              CIVILIAN             DIED_IN   \n",
       "1                       CRIMINAL_ARREST          START_DATE   \n",
       "2         NON_GOVERNMENTAL_ORGANISATION    HAS_CONTROL_OVER   \n",
       "3         NON_GOVERNMENTAL_ORGANISATION     IS_AT_ODDS_WITH   \n",
       "4  NON_MILITARY_GOVERNMENT_ORGANISATION  IS_IN_CONTACT_WITH   \n",
       "\n",
       "                    tail  \n",
       "0                SUICIDE  \n",
       "1             TIME_FUZZY  \n",
       "2                  PLACE  \n",
       "3   GROUP_OF_INDIVIDUALS  \n",
       "4  TERRORIST_OR_CRIMINAL  "
      ]
     },
     "execution_count": 2,
     "metadata": {},
     "output_type": "execute_result"
    }
   ],
   "source": [
    "def get_annotated_relations(data):\n",
    "    possible_relations = set()\n",
    "    relations = data.relations\n",
    "    rows = []\n",
    "    for relation in relations:\n",
    "        text = data.text\n",
    "        entities = data.entities\n",
    "        possible_relations.add((entities[relation[0]][\"type\"], relation[1], entities[relation[2]][\"type\"]))\n",
    "        head_entity = \", \".join(list(set([m[\"value\"] for m in entities[relation[0]][\"mentions\"]])))\n",
    "        relation_type = relation[1].lower()\n",
    "        tail_entity = \", \".join(list(set([m[\"value\"] for m in entities[relation[2]][\"mentions\"]])))\n",
    "        relation = str(relation)\n",
    "        rows.append({\"text\": text, \n",
    "                     \"head_entity\": head_entity, \n",
    "                     \"tail_entity\": tail_entity, \n",
    "                     \"type\": relation_type, \n",
    "                     \"relation\": relation, \n",
    "                     \"answer\": \"true\"})\n",
    "    return possible_relations, rows\n",
    "\n",
    "possible_relation_profiles = set()\n",
    "true_examples = []\n",
    "count = 0 \n",
    "for uid, data in train_df.iterrows():\n",
    "    relation_profiles, true_rows = get_annotated_relations(data)\n",
    "    for profile in relation_profiles:\n",
    "        possible_relation_profiles.add(profile)\n",
    "    for row in true_rows:\n",
    "        row[\"uid\"] = uid\n",
    "        true_examples.append(row)\n",
    "    count += 1\n",
    "    if count == 700:\n",
    "        split_index_true = len(true_examples)\n",
    "print(len(true_examples), split_index_true)\n",
    "profile_df = pd.DataFrame(list(possible_relation_profiles))\n",
    "profile_df.columns = [\"head\", \"type\", \"tail\"]\n",
    "profile_df.head()"
   ]
  },
  {
   "cell_type": "markdown",
   "id": "cdb0b869-ac5a-4689-ac69-2901524d3cd6",
   "metadata": {},
   "source": [
    "## Extraction de relations synthétiques selon les combinaisons de types d'entités possibles"
   ]
  },
  {
   "cell_type": "code",
   "execution_count": 3,
   "id": "48e4edeb-f24e-4c13-aec5-f9118e588254",
   "metadata": {},
   "outputs": [
    {
     "name": "stderr",
     "output_type": "stream",
     "text": [
      "800it [04:45,  2.80it/s]\n"
     ]
    },
    {
     "data": {
      "text/plain": [
       "(279750, 244454)"
      ]
     },
     "execution_count": 3,
     "metadata": {},
     "output_type": "execute_result"
    }
   ],
   "source": [
    "from tqdm import tqdm\n",
    "\n",
    "def get_synthetic_relations(data, test=False):\n",
    "    text = data.text\n",
    "    true_relations = [] if test else data.relations\n",
    "    entities = data.entities\n",
    "    rows = []\n",
    "    for head_entity in entities:\n",
    "        head_id = head_entity['id']\n",
    "        head_type = head_entity['type']\n",
    "        df = profile_df[profile_df['head'] == head_type]\n",
    "        for tail_entity in entities:\n",
    "            tail_id = tail_entity['id']\n",
    "            tail_type = tail_entity['type']\n",
    "            for _, relation in df.iterrows():\n",
    "                if relation['tail'] == tail_type:\n",
    "                    possible_relation = [head_id, relation['type'], tail_id]\n",
    "                    if test or possible_relation not in true_relations:\n",
    "                        head_entity = \", \".join(list(set([m[\"value\"] for m in entities[head_id][\"mentions\"]])))\n",
    "                        relation_type = possible_relation[1].lower()\n",
    "                        tail_entity = \", \".join(list(set([m[\"value\"] for m in entities[tail_id][\"mentions\"]])))\n",
    "                        rows.append({\"text\": text, \n",
    "                                     \"head_entity\": head_entity, \n",
    "                                     \"tail_entity\": tail_entity, \n",
    "                                     \"type\": relation_type, \n",
    "                                     \"relation\": str([head_id, possible_relation[1], tail_id]), \n",
    "                                     \"answer\": \"false\"})\n",
    "    return rows\n",
    "false_examples = []\n",
    "uids = []\n",
    "count = 0\n",
    "for uid, data in tqdm(train_df.iterrows()):\n",
    "    false_rows = get_synthetic_relations(data)\n",
    "    for row in false_rows:\n",
    "        row[\"uid\"] = uid\n",
    "        false_examples.append(row)\n",
    "    count += 1\n",
    "    if count == 700:\n",
    "        split_index_false = len(false_examples)\n",
    "len(false_examples), split_index_false"
   ]
  },
  {
   "cell_type": "markdown",
   "id": "cb0ff695-7695-4f21-93c9-a276508daee1",
   "metadata": {},
   "source": [
    "## Données de test"
   ]
  },
  {
   "cell_type": "code",
   "execution_count": 4,
   "id": "594423e3-cd94-4c6c-8b4a-f0d07282a39b",
   "metadata": {},
   "outputs": [
    {
     "name": "stdout",
     "output_type": "stream",
     "text": [
      "(400, 2)\n"
     ]
    }
   ],
   "source": [
    "test_df = pd.read_csv(\"test_01-07-2024.csv\")\n",
    "test_df = test_df.set_index(\"id\")\n",
    "test_df.entities = test_df.entities.apply(json.loads)\n",
    "print(test_df.shape)"
   ]
  },
  {
   "cell_type": "code",
   "execution_count": 5,
   "id": "946fb054-0fc2-4cf1-8b1c-67fa82c51282",
   "metadata": {},
   "outputs": [
    {
     "name": "stderr",
     "output_type": "stream",
     "text": [
      "400it [02:06,  3.15it/s]\n"
     ]
    },
    {
     "data": {
      "text/plain": [
       "135012"
      ]
     },
     "execution_count": 5,
     "metadata": {},
     "output_type": "execute_result"
    }
   ],
   "source": [
    "test_queries = []\n",
    "for uid, data in tqdm(test_df.iterrows()):\n",
    "    query_rows = get_synthetic_relations(data, test=True)\n",
    "    for row in query_rows:\n",
    "        row[\"uid\"] = uid\n",
    "        test_queries.append(row)\n",
    "len(test_queries)"
   ]
  },
  {
   "cell_type": "code",
   "execution_count": 6,
   "id": "e3f0d9e6-dc9d-417c-9c3f-b496f31cf717",
   "metadata": {},
   "outputs": [],
   "source": [
    "import jsonlines\n",
    "import random\n",
    "\n",
    "train_rows = true_examples[:split_index_true]+false_examples[:split_index_false]\n",
    "random.seed(0)\n",
    "random.shuffle(train_rows)\n",
    "with jsonlines.open(\"dataset/train.jsonl\", \"w\") as writer:\n",
    "    writer.write_all(train_rows)\n",
    "with jsonlines.open(\"dataset/val.jsonl\", \"w\") as writer:\n",
    "    writer.write_all(true_examples[split_index_true:]+false_examples[split_index_false:])\n",
    "with jsonlines.open(\"dataset/test.jsonl\", \"w\") as writer:\n",
    "    writer.write_all(test_queries)"
   ]
  },
  {
   "cell_type": "code",
   "execution_count": null,
   "id": "e5a75ade-e464-45d1-b6f7-eca12cd9c8a3",
   "metadata": {},
   "outputs": [],
   "source": []
  }
 ],
 "metadata": {
  "kernelspec": {
   "display_name": "Python 3 (ipykernel)",
   "language": "python",
   "name": "python3"
  },
  "language_info": {
   "codemirror_mode": {
    "name": "ipython",
    "version": 3
   },
   "file_extension": ".py",
   "mimetype": "text/x-python",
   "name": "python",
   "nbconvert_exporter": "python",
   "pygments_lexer": "ipython3",
   "version": "3.10.14"
  }
 },
 "nbformat": 4,
 "nbformat_minor": 5
}
